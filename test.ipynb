{
 "cells": [
  {
   "cell_type": "markdown",
   "metadata": {},
   "source": [
    "# Briefing Test Technique Final / Dév. web FARIMER"
   ]
  },
  {
   "cell_type": "markdown",
   "metadata": {},
   "source": [
    "## prestashop connection\n",
    "Show All products (id , name, price ) "
   ]
  },
  {
   "cell_type": "code",
   "execution_count": 88,
   "metadata": {},
   "outputs": [
    {
     "name": "stdout",
     "output_type": "stream",
     "text": [
      "id = 22\n",
      "price = 2000.000000$\n",
      "name = myproductnew\n",
      "---------------------------------------\n",
      "id = 23\n",
      "price = 2000.000000$\n",
      "name = myproductnew\n",
      "---------------------------------------\n",
      "id = 24\n",
      "price = 200001.000000$\n",
      "name = mynewprod3\n",
      "---------------------------------------\n",
      "id = 20\n",
      "price = 20000.000000$\n",
      "name = hicham\n",
      "---------------------------------------\n",
      "id = 21\n",
      "price = 0.000000$\n",
      "name = \n",
      "---------------------------------------\n",
      "id = 1\n",
      "price = 23.900000$\n",
      "name = T-shirt imprimé colibri\n",
      "---------------------------------------\n",
      "id = 2\n",
      "price = 35.900000$\n",
      "name = Pull imprimé colibri\n",
      "---------------------------------------\n",
      "id = 16\n",
      "price = 12.900000$\n",
      "name = Carnet de notes Renard\n",
      "---------------------------------------\n",
      "id = 17\n",
      "price = 12.900000$\n",
      "name = Carnet de notes Ours brun\n",
      "---------------------------------------\n",
      "id = 18\n",
      "price = 12.900000$\n",
      "name = Carnet de notes Colibri\n",
      "---------------------------------------\n",
      "id = 6\n",
      "price = 11.900000$\n",
      "name = Mug The best is yet to come\n",
      "---------------------------------------\n",
      "id = 7\n",
      "price = 11.900000$\n",
      "name = Mug The adventure begins\n",
      "---------------------------------------\n",
      "id = 8\n",
      "price = 11.900000$\n",
      "name = Mug Today is a good day\n",
      "---------------------------------------\n",
      "id = 9\n",
      "price = 18.900000$\n",
      "name = Coussin renard\n",
      "---------------------------------------\n",
      "id = 10\n",
      "price = 18.900000$\n",
      "name = Coussin ours brun\n",
      "---------------------------------------\n",
      "id = 11\n",
      "price = 18.900000$\n",
      "name = Coussin colibri\n",
      "---------------------------------------\n",
      "id = 15\n",
      "price = 35.000000$\n",
      "name = Pack Mug + Affiche encadrée\n",
      "---------------------------------------\n",
      "id = 19\n",
      "price = 13.900000$\n",
      "name = Mug personnalisable\n",
      "---------------------------------------\n",
      "id = 3\n",
      "price = 29.000000$\n",
      "name = Affiche encadrée The best is yet to come\n",
      "---------------------------------------\n",
      "id = 4\n",
      "price = 29.000000$\n",
      "name = Affiche encadrée The adventure begins\n",
      "---------------------------------------\n",
      "id = 5\n",
      "price = 29.000000$\n",
      "name = Affiche encadrée Today is a good day\n",
      "---------------------------------------\n",
      "id = 12\n",
      "price = 9.000000$\n",
      "name = Illustration vectorielle Renard\n",
      "---------------------------------------\n",
      "id = 13\n",
      "price = 9.000000$\n",
      "name = Illustration vectorielle Ours brun\n",
      "---------------------------------------\n",
      "id = 14\n",
      "price = 9.000000$\n",
      "name = Illustration vectorielle Colibri\n",
      "---------------------------------------\n"
     ]
    }
   ],
   "source": [
    "# import Libs\n",
    "from prestapyt import PrestaShopWebServiceDict\n",
    "#--------------------------------------------------------------------------------------------------------------------\n",
    "\n",
    "connection_prestashop = PrestaShopWebServiceDict(\"http://localhost:8080/api\", \"HQI1D7D617ATKY2AAAVCC7PECYF2LCGX\")\n",
    "products_prstashop = connection_prestashop.get(\"products\")['products']['product']\n",
    "for product in products_prstashop : \n",
    "    id_prod = product['attrs']['id']\n",
    "    prods = connection_prestashop.get(\"products\", id_prod)\n",
    "    print(\"id = \" + prods['product']['id'])\n",
    "    print(\"price = \" + prods['product']['price'] + \"$\")\n",
    "    print(\"name = \" + prods['product']['name']['language']['value'])\n",
    "    print(\"---------------------------------------\")"
   ]
  },
  {
   "cell_type": "markdown",
   "metadata": {},
   "source": [
    "## Odoo Connection \n",
    "Show All products (id , price, name)"
   ]
  },
  {
   "cell_type": "code",
   "execution_count": 69,
   "metadata": {
    "scrolled": false
   },
   "outputs": [
    {
     "name": "stdout",
     "output_type": "stream",
     "text": [
      "--------------------------------------------------------\n",
      "id = 15\n",
      "price = 800.4DA\n",
      "name = Customizable Desk (CONFIG)\n",
      "--------------------------------------------------------\n",
      "id = 37\n",
      "price = 750.0DA\n",
      "name = Customizable Desk (CONFIG)\n",
      "--------------------------------------------------------\n",
      "id = 38\n",
      "price = 750.0DA\n",
      "name = Customizable Desk (CONFIG)\n",
      "--------------------------------------------------------\n",
      "id = 36\n",
      "price = 150.0DA\n",
      "name = Deposit\n",
      "--------------------------------------------------------\n",
      "id = 16\n",
      "price = 147.0DA\n",
      "name = Corner Desk Right Sit\n",
      "--------------------------------------------------------\n",
      "id = 17\n",
      "price = 320.0DA\n",
      "name = Large Cabinet\n",
      "--------------------------------------------------------\n",
      "id = 18\n",
      "price = 79.0DA\n",
      "name = Storage Box\n",
      "--------------------------------------------------------\n",
      "id = 19\n",
      "price = 1799.0DA\n",
      "name = Large Desk\n",
      "--------------------------------------------------------\n",
      "id = 20\n",
      "price = 47.0DA\n",
      "name = Pedal Bin\n",
      "--------------------------------------------------------\n",
      "id = 21\n",
      "price = 14.0DA\n",
      "name = Cabinet with Doors\n",
      "--------------------------------------------------------\n",
      "id = 23\n",
      "price = 16.5DA\n",
      "name = Conference Chair (CONFIG)\n",
      "--------------------------------------------------------\n",
      "id = 24\n",
      "price = 22.900000000000002DA\n",
      "name = Conference Chair (CONFIG)\n",
      "--------------------------------------------------------\n",
      "id = 2\n",
      "price = 400.0DA\n",
      "name = Hotel Accommodation\n",
      "--------------------------------------------------------\n",
      "id = 1\n",
      "price = 14.0DA\n",
      "name = Restaurant Expenses\n",
      "--------------------------------------------------------\n",
      "id = 12\n",
      "price = 750.0DA\n",
      "name = Customizable Desk (CONFIG)\n",
      "--------------------------------------------------------\n",
      "id = 13\n",
      "price = 750.0DA\n",
      "name = Customizable Desk (CONFIG)\n",
      "--------------------------------------------------------\n",
      "id = 14\n",
      "price = 800.4DA\n",
      "name = Customizable Desk (CONFIG)\n",
      "--------------------------------------------------------\n",
      "id = 25\n",
      "price = 12.5DA\n",
      "name = Office Chair Black\n",
      "--------------------------------------------------------\n",
      "id = 30\n",
      "price = 885.0DA\n",
      "name = Individual Workplace\n",
      "--------------------------------------------------------\n",
      "id = 26\n",
      "price = 85.0DA\n",
      "name = Corner Desk Black\n",
      "--------------------------------------------------------\n",
      "id = 31\n",
      "price = 2950.0DA\n",
      "name = Acoustic Bloc Screens\n",
      "--------------------------------------------------------\n",
      "id = 34\n",
      "price = 40000.0DA\n",
      "name = Large Meeting Table\n",
      "--------------------------------------------------------\n",
      "id = 5\n",
      "price = 70.0DA\n",
      "name = Office Chair\n",
      "--------------------------------------------------------\n",
      "id = 8\n",
      "price = 450.0DA\n",
      "name = Desk Combination\n",
      "--------------------------------------------------------\n",
      "id = 29\n",
      "price = 2100.0DA\n",
      "name = Desk Stand with Screen\n",
      "--------------------------------------------------------\n",
      "id = 33\n",
      "price = 23500.0DA\n",
      "name = Four Person Desk\n",
      "--------------------------------------------------------\n",
      "id = 32\n",
      "price = 3645.0DA\n",
      "name = Drawer\n",
      "--------------------------------------------------------\n",
      "id = 6\n",
      "price = 40.0DA\n",
      "name = Office Lamp\n",
      "--------------------------------------------------------\n",
      "id = 27\n",
      "price = 25.0DA\n",
      "name = Drawer Black\n",
      "--------------------------------------------------------\n",
      "id = 35\n",
      "price = 60000.0DA\n",
      "name = Three-Seat Sofa\n",
      "--------------------------------------------------------\n",
      "id = 28\n",
      "price = 1950.0DA\n",
      "name = Flipover\n",
      "--------------------------------------------------------\n",
      "id = 7\n",
      "price = 280.0DA\n",
      "name = Office Design Software\n",
      "--------------------------------------------------------\n",
      "id = 40\n",
      "price = 20.0DA\n",
      "name = Warranty\n",
      "--------------------------------------------------------\n",
      "id = 41\n",
      "price = 38.0DA\n",
      "name = Warranty\n",
      "--------------------------------------------------------\n",
      "id = 4\n",
      "price = 38.25DA\n",
      "name = Virtual Home Staging\n",
      "--------------------------------------------------------\n",
      "id = 3\n",
      "price = 30.75DA\n",
      "name = Virtual Interior Design\n",
      "--------------------------------------------------------\n",
      "id = 42\n",
      "price = 10000.0DA\n",
      "name = hicham\n",
      "--------------------------------------------------------\n",
      "id = 43\n",
      "price = 200001.0DA\n",
      "name = mynewprod\n",
      "--------------------------------------------------------\n",
      "id = 44\n",
      "price = 200001.0DA\n",
      "name = mynewprod3\n"
     ]
    }
   ],
   "source": [
    "#import Libs\n",
    "import erppeek\n",
    "#----------------------------------------------------------------------------------------------------------\n",
    "\n",
    "connection_odoo = erppeek.Client(\"http://localhost:8069\", \"zekri\", \"hsmz.zekri@gmail.com\", \"odoo\") \n",
    "products_odoo = connection_odoo.model(\"product.product\")\n",
    "products_ids_odoo = products_odoo.search([])\n",
    "for pid in products_ids_odoo :\n",
    "    print(\"--------------------------------------------------------\")\n",
    "    print(\"id = \" + str(connection_odoo.read(\"product.product\",[pid])[0]['id']))\n",
    "    print(\"price = \" + str(connection_odoo.read(\"product.product\",[pid])[0]['lst_price']) + \"DA\")\n",
    "    print(\"name = \" + connection_odoo.read(\"product.product\",[pid])[0]['name'])"
   ]
  },
  {
   "cell_type": "markdown",
   "metadata": {},
   "source": [
    "## Add New product to Prestashop"
   ]
  },
  {
   "cell_type": "code",
   "execution_count": null,
   "metadata": {},
   "outputs": [],
   "source": [
    "blank_product = prestashop.get('products', options = {'schema': 'blank'});\n",
    "blank_product['product']['price'] = \"2000\"\n",
    "blank_product['product']['name']['language']['value'] = \"myproductnew\"\n",
    "\n",
    "prestashop.add(\"products\", blank_product)"
   ]
  },
  {
   "cell_type": "markdown",
   "metadata": {},
   "source": [
    "## Add New product to Odoo"
   ]
  },
  {
   "cell_type": "code",
   "execution_count": 97,
   "metadata": {},
   "outputs": [
    {
     "data": {
      "text/plain": [
       "47"
      ]
     },
     "execution_count": 97,
     "metadata": {},
     "output_type": "execute_result"
    }
   ],
   "source": [
    "connection_odoo.create(\"product.product\", {'name': 'mynewprod3', 'lst_price': '200001' })"
   ]
  },
  {
   "cell_type": "markdown",
   "metadata": {},
   "source": [
    "## Connector Odoo and Prestashop"
   ]
  },
  {
   "cell_type": "code",
   "execution_count": 78,
   "metadata": {},
   "outputs": [],
   "source": [
    "def from_odoo_to_prestashop(connection_odoo, connection_prestashop, id_product) : \n",
    "    # get product from odoo\n",
    "    products_odoo = connection_odoo.model(\"product.product\")\n",
    "    product = connection_odoo.read(\"product.product\",[id_product])[0]\n",
    "    # create blank product \n",
    "    blank_product = prestashop.get('products', options = {'schema': 'blank'});\n",
    "    blank_product['product']['price'] = product['lst_price']\n",
    "    blank_product['product']['name']['language']['value'] = product['name']\n",
    "    # add it on prestashop\n",
    "    return connection_prestashop.add(\"products\", blank_product)['prestashop']['product']['id']"
   ]
  },
  {
   "cell_type": "code",
   "execution_count": 102,
   "metadata": {},
   "outputs": [],
   "source": [
    "def from_prestashop_to_odoo(connection_odoo, connection_prestashop, id_product):\n",
    "    # get product from prestashop\n",
    "    product = connection_prestashop.get(\"products\", id_product)\n",
    "    # create it on odoo\n",
    "    return connection_odoo.create(\"product.product\", \n",
    "                                  {'name': product['product']['name']['language']['value'], \n",
    "                                   'lst_price': product['product']['price'] })\n",
    "    "
   ]
  },
  {
   "cell_type": "code",
   "execution_count": 103,
   "metadata": {},
   "outputs": [],
   "source": [
    "def get_all_products_odoo(connection_odoo) :\n",
    "    connection_odoo = erppeek.Client(\"http://localhost:8069\", \"zekri\", \"hsmz.zekri@gmail.com\", \"odoo\") \n",
    "    products_odoo = connection_odoo.model(\"product.product\")\n",
    "    products_ids_odoo = products_odoo.search([])\n",
    "    products = []\n",
    "    for pid in products_ids_odoo :\n",
    "        prod = connection_odoo.read(\"product.product\",[pid])[0]\n",
    "        product = {'id': prod['id'], 'name':prod['name'], 'price': prod['lst_price']}\n",
    "        products.append(product)\n",
    "    return products\n",
    "    "
   ]
  },
  {
   "cell_type": "code",
   "execution_count": 104,
   "metadata": {},
   "outputs": [],
   "source": [
    "def get_all_products_prestashop(connection_prestashop) :\n",
    "        products_prstashop = connection_prestashop.get(\"products\")['products']['product']\n",
    "        products = []\n",
    "        for product in products_prstashop : \n",
    "            id_prod = product['attrs']['id']\n",
    "            prod = connection_prestashop.get(\"products\", id_prod)\n",
    "            product = {'id' : prod['product']['id'],\n",
    "                       'name':prod['product']['name']['language']['value'],\n",
    "                       'price': prod['product']['price']}\n",
    "            products.append(product)\n",
    "        return products\n",
    "\n"
   ]
  },
  {
   "cell_type": "code",
   "execution_count": 105,
   "metadata": {},
   "outputs": [],
   "source": [
    "def get_one_product_odoo(connection_odoo, id_prod):\n",
    "        prod = connection_odoo.read(\"product.product\",[id_prod])[0]\n",
    "        product = {'id' : prod['id'] , 'name':prod['name'] , 'price': prod['lst_price']}\n",
    "        return product\n",
    "    "
   ]
  },
  {
   "cell_type": "code",
   "execution_count": 106,
   "metadata": {},
   "outputs": [],
   "source": [
    "def get_one_product_prestashop(connection_prestashop, id_prod):\n",
    "            prod = connection_prestashop.get(\"products\", id_prod)\n",
    "            product = {'id' : prod['product']['id'],\n",
    "                       'name':prod['product']['name']['language']['value'],\n",
    "                       'price': prod['product']['price']}\n",
    "            return product\n",
    "     "
   ]
  },
  {
   "cell_type": "markdown",
   "metadata": {},
   "source": [
    "## TEST"
   ]
  },
  {
   "cell_type": "code",
   "execution_count": 84,
   "metadata": {},
   "outputs": [
    {
     "data": {
      "text/plain": [
       "[{'id': 15, 'name': 'Customizable Desk (CONFIG)', 'price': 800.4},\n",
       " {'id': 37, 'name': 'Customizable Desk (CONFIG)', 'price': 750.0},\n",
       " {'id': 38, 'name': 'Customizable Desk (CONFIG)', 'price': 750.0},\n",
       " {'id': 36, 'name': 'Deposit', 'price': 150.0},\n",
       " {'id': 16, 'name': 'Corner Desk Right Sit', 'price': 147.0},\n",
       " {'id': 17, 'name': 'Large Cabinet', 'price': 320.0},\n",
       " {'id': 18, 'name': 'Storage Box', 'price': 79.0},\n",
       " {'id': 19, 'name': 'Large Desk', 'price': 1799.0},\n",
       " {'id': 20, 'name': 'Pedal Bin', 'price': 47.0},\n",
       " {'id': 21, 'name': 'Cabinet with Doors', 'price': 14.0},\n",
       " {'id': 23, 'name': 'Conference Chair (CONFIG)', 'price': 16.5},\n",
       " {'id': 24, 'name': 'Conference Chair (CONFIG)', 'price': 22.900000000000002},\n",
       " {'id': 2, 'name': 'Hotel Accommodation', 'price': 400.0},\n",
       " {'id': 1, 'name': 'Restaurant Expenses', 'price': 14.0},\n",
       " {'id': 12, 'name': 'Customizable Desk (CONFIG)', 'price': 750.0},\n",
       " {'id': 13, 'name': 'Customizable Desk (CONFIG)', 'price': 750.0},\n",
       " {'id': 14, 'name': 'Customizable Desk (CONFIG)', 'price': 800.4},\n",
       " {'id': 25, 'name': 'Office Chair Black', 'price': 12.5},\n",
       " {'id': 30, 'name': 'Individual Workplace', 'price': 885.0},\n",
       " {'id': 26, 'name': 'Corner Desk Black', 'price': 85.0},\n",
       " {'id': 31, 'name': 'Acoustic Bloc Screens', 'price': 2950.0},\n",
       " {'id': 34, 'name': 'Large Meeting Table', 'price': 40000.0},\n",
       " {'id': 5, 'name': 'Office Chair', 'price': 70.0},\n",
       " {'id': 8, 'name': 'Desk Combination', 'price': 450.0},\n",
       " {'id': 29, 'name': 'Desk Stand with Screen', 'price': 2100.0},\n",
       " {'id': 33, 'name': 'Four Person Desk', 'price': 23500.0},\n",
       " {'id': 32, 'name': 'Drawer', 'price': 3645.0},\n",
       " {'id': 6, 'name': 'Office Lamp', 'price': 40.0},\n",
       " {'id': 27, 'name': 'Drawer Black', 'price': 25.0},\n",
       " {'id': 35, 'name': 'Three-Seat Sofa', 'price': 60000.0},\n",
       " {'id': 28, 'name': 'Flipover', 'price': 1950.0},\n",
       " {'id': 7, 'name': 'Office Design Software', 'price': 280.0},\n",
       " {'id': 40, 'name': 'Warranty', 'price': 20.0},\n",
       " {'id': 41, 'name': 'Warranty', 'price': 38.0},\n",
       " {'id': 4, 'name': 'Virtual Home Staging', 'price': 38.25},\n",
       " {'id': 3, 'name': 'Virtual Interior Design', 'price': 30.75},\n",
       " {'id': 42, 'name': 'hicham', 'price': 10000.0},\n",
       " {'id': 43, 'name': 'mynewprod', 'price': 200001.0},\n",
       " {'id': 44, 'name': 'mynewprod3', 'price': 200001.0}]"
      ]
     },
     "execution_count": 84,
     "metadata": {},
     "output_type": "execute_result"
    }
   ],
   "source": [
    "get_all_products_odoo(connection_odoo)"
   ]
  },
  {
   "cell_type": "code",
   "execution_count": 89,
   "metadata": {},
   "outputs": [
    {
     "data": {
      "text/plain": [
       "'25'"
      ]
     },
     "execution_count": 89,
     "metadata": {},
     "output_type": "execute_result"
    }
   ],
   "source": [
    "from_odoo_to_prestashop(connection_odoo,connection_prestashop, 42)"
   ]
  },
  {
   "cell_type": "code",
   "execution_count": 91,
   "metadata": {},
   "outputs": [
    {
     "data": {
      "text/plain": [
       "{'id': '25', 'name': 'hicham', 'price': '10000.000000'}"
      ]
     },
     "execution_count": 91,
     "metadata": {},
     "output_type": "execute_result"
    }
   ],
   "source": [
    "get_one_product_prestashop(connection_prestashop, 25)"
   ]
  },
  {
   "cell_type": "code",
   "execution_count": 90,
   "metadata": {},
   "outputs": [
    {
     "data": {
      "text/plain": [
       "[{'id': '22', 'name': 'myproductnew', 'price': '2000.000000'},\n",
       " {'id': '23', 'name': 'myproductnew', 'price': '2000.000000'},\n",
       " {'id': '24', 'name': 'mynewprod3', 'price': '200001.000000'},\n",
       " {'id': '25', 'name': 'hicham', 'price': '10000.000000'},\n",
       " {'id': '20', 'name': 'hicham', 'price': '20000.000000'},\n",
       " {'id': '21', 'name': '', 'price': '0.000000'},\n",
       " {'id': '1', 'name': 'T-shirt imprimé colibri', 'price': '23.900000'},\n",
       " {'id': '2', 'name': 'Pull imprimé colibri', 'price': '35.900000'},\n",
       " {'id': '16', 'name': 'Carnet de notes Renard', 'price': '12.900000'},\n",
       " {'id': '17', 'name': 'Carnet de notes Ours brun', 'price': '12.900000'},\n",
       " {'id': '18', 'name': 'Carnet de notes Colibri', 'price': '12.900000'},\n",
       " {'id': '6', 'name': 'Mug The best is yet to come', 'price': '11.900000'},\n",
       " {'id': '7', 'name': 'Mug The adventure begins', 'price': '11.900000'},\n",
       " {'id': '8', 'name': 'Mug Today is a good day', 'price': '11.900000'},\n",
       " {'id': '9', 'name': 'Coussin renard', 'price': '18.900000'},\n",
       " {'id': '10', 'name': 'Coussin ours brun', 'price': '18.900000'},\n",
       " {'id': '11', 'name': 'Coussin colibri', 'price': '18.900000'},\n",
       " {'id': '15', 'name': 'Pack Mug + Affiche encadrée', 'price': '35.000000'},\n",
       " {'id': '19', 'name': 'Mug personnalisable', 'price': '13.900000'},\n",
       " {'id': '3',\n",
       "  'name': 'Affiche encadrée The best is yet to come',\n",
       "  'price': '29.000000'},\n",
       " {'id': '4',\n",
       "  'name': 'Affiche encadrée The adventure begins',\n",
       "  'price': '29.000000'},\n",
       " {'id': '5',\n",
       "  'name': 'Affiche encadrée Today is a good day',\n",
       "  'price': '29.000000'},\n",
       " {'id': '12', 'name': 'Illustration vectorielle Renard', 'price': '9.000000'},\n",
       " {'id': '13',\n",
       "  'name': 'Illustration vectorielle Ours brun',\n",
       "  'price': '9.000000'},\n",
       " {'id': '14', 'name': 'Illustration vectorielle Colibri', 'price': '9.000000'}]"
      ]
     },
     "execution_count": 90,
     "metadata": {},
     "output_type": "execute_result"
    }
   ],
   "source": [
    "get_all_products_prestashop(connection_prestashop)"
   ]
  },
  {
   "cell_type": "code",
   "execution_count": 107,
   "metadata": {},
   "outputs": [
    {
     "data": {
      "text/plain": [
       "49"
      ]
     },
     "execution_count": 107,
     "metadata": {},
     "output_type": "execute_result"
    }
   ],
   "source": [
    "from_prestashop_to_odoo(connection_odoo, connection_prestashop, 5)"
   ]
  },
  {
   "cell_type": "code",
   "execution_count": 108,
   "metadata": {},
   "outputs": [
    {
     "data": {
      "text/plain": [
       "{'id': 49, 'name': 'Affiche encadrée Today is a good day', 'price': 29.0}"
      ]
     },
     "execution_count": 108,
     "metadata": {},
     "output_type": "execute_result"
    }
   ],
   "source": [
    "get_one_product_odoo(connection_odoo, 49)"
   ]
  },
  {
   "cell_type": "code",
   "execution_count": null,
   "metadata": {},
   "outputs": [],
   "source": []
  }
 ],
 "metadata": {
  "kernelspec": {
   "display_name": "Python 3",
   "language": "python",
   "name": "python3"
  },
  "language_info": {
   "codemirror_mode": {
    "name": "ipython",
    "version": 3
   },
   "file_extension": ".py",
   "mimetype": "text/x-python",
   "name": "python",
   "nbconvert_exporter": "python",
   "pygments_lexer": "ipython3",
   "version": "3.7.4"
  }
 },
 "nbformat": 4,
 "nbformat_minor": 2
}
